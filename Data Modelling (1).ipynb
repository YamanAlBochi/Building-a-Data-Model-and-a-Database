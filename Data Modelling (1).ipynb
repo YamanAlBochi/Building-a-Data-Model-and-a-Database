{
 "cells": [
  {
   "cell_type": "markdown",
   "id": "2ac60743",
   "metadata": {},
   "source": [
    "# 1. Creating a table with PostgreSQL"
   ]
  },
  {
   "cell_type": "code",
   "execution_count": 5,
   "id": "3dbed9c0",
   "metadata": {},
   "outputs": [
    {
     "name": "stdout",
     "output_type": "stream",
     "text": [
      "Requirement already satisfied: psycopg2 in ./Desktop/anaconda3/lib/python3.11/site-packages (2.9.9)\n",
      "Note: you may need to restart the kernel to use updated packages.\n"
     ]
    }
   ],
   "source": [
    "pip install psycopg2"
   ]
  },
  {
   "cell_type": "markdown",
   "id": "bab69ba6",
   "metadata": {},
   "source": [
    "# 2. Import the Library"
   ]
  },
  {
   "cell_type": "code",
   "execution_count": 6,
   "id": "a2486f18",
   "metadata": {},
   "outputs": [],
   "source": [
    "import psycopg2"
   ]
  },
  {
   "cell_type": "markdown",
   "id": "6414b3f2",
   "metadata": {},
   "source": [
    "# 3. Creating a connection to the Database"
   ]
  },
  {
   "cell_type": "code",
   "execution_count": 8,
   "id": "4d14440f",
   "metadata": {},
   "outputs": [],
   "source": [
    "try:\n",
    "    conn = psycopg2.connect(\"host=127.0.0.1 dbname=postgres user=postgres password=1472\")\n",
    "except pyscopg2.Error as e:\n",
    "    print(\"Error: Could not make connection to the Postgres database\")\n",
    "    print(e)"
   ]
  },
  {
   "cell_type": "markdown",
   "id": "8af8af69",
   "metadata": {},
   "source": [
    "# 4. Use the connection to get a cursor that can be used to execute queries"
   ]
  },
  {
   "cell_type": "code",
   "execution_count": 9,
   "id": "f1fe64c8",
   "metadata": {},
   "outputs": [],
   "source": [
    "try: \n",
    "    cur = conn.cursor()\n",
    "except psycopg2.Error as e:\n",
    "    print(\"Error: Could not get cursor to the Database\")\n",
    "    print(e)"
   ]
  },
  {
   "cell_type": "markdown",
   "id": "1caa6f32",
   "metadata": {},
   "source": [
    "# 5. Set automatic commit to be true so that each action is committed without having to call conn.commit() after each command. "
   ]
  },
  {
   "cell_type": "code",
   "execution_count": 10,
   "id": "c0ecc201",
   "metadata": {},
   "outputs": [],
   "source": [
    "conn.set_session(autocommit=True)"
   ]
  },
  {
   "cell_type": "markdown",
   "id": "8c5a3a2d",
   "metadata": {},
   "source": [
    "# 6. Create a database to do the work inside"
   ]
  },
  {
   "cell_type": "code",
   "execution_count": 12,
   "id": "d8ab2756",
   "metadata": {},
   "outputs": [
    {
     "name": "stdout",
     "output_type": "stream",
     "text": [
      "database \"myfirstdb\" already exists\n",
      "\n"
     ]
    }
   ],
   "source": [
    "try:\n",
    "    cur.execute(\"create database myfirstdb\")\n",
    "except psycopg2.Error as e:\n",
    "    print(e)"
   ]
  },
  {
   "cell_type": "markdown",
   "id": "d211f25c",
   "metadata": {},
   "source": [
    "# 7. Add the database name in the connect statement. Let's close our connection to the default database, reconnect to the Udacity database, and get a new cursor."
   ]
  },
  {
   "cell_type": "code",
   "execution_count": 14,
   "id": "f1acef69",
   "metadata": {},
   "outputs": [],
   "source": [
    "try: \n",
    "    conn.close()\n",
    "except psycopg2.Error as e:\n",
    "    print(e)\n",
    "\n",
    "try:\n",
    "    conn = psycopg2.connect(\"host=127.0.0.1 dbname=myfirstdb user=postgres password=1472\")\n",
    "except psycopg2.Error as e:\n",
    "    print(\"Error: could not make connection to the Postgres database\")\n",
    "    print (e)\n",
    "\n",
    "try: \n",
    "    cur = conn.cursor()\n",
    "except psycopg2.Error as e: \n",
    "    print (\"Error: Could not get cursor to the Database\")\n",
    "    print(e)\n",
    "    \n",
    "conn.set_session(autocommit=True)   "
   ]
  },
  {
   "cell_type": "markdown",
   "id": "1895018b",
   "metadata": {},
   "source": [
    "# 8. Create a table for students which include the below columns:\n",
    "\n",
    "student_id\n",
    "\n",
    "name\n",
    "\n",
    "age\n",
    "\n",
    "gender\n",
    "\n",
    "subject\n",
    "\n",
    "marks"
   ]
  },
  {
   "cell_type": "code",
   "execution_count": 16,
   "id": "0e1a5895",
   "metadata": {},
   "outputs": [],
   "source": [
    "try:\n",
    "    cur.execute(\"CREATE TABLE IF NOT EXISTS students (student_id int, name varchar, age int, gender varchar, subject varchar, marks int);\")\n",
    "except psycopg2.Error as e:\n",
    "    print(\"Error: Issue Creating table\")\n",
    "    print (e)"
   ]
  },
  {
   "cell_type": "markdown",
   "id": "ae8cf094",
   "metadata": {},
   "source": [
    "# 9. Insert the following two rows in the table"
   ]
  },
  {
   "cell_type": "markdown",
   "id": "ce1013d5",
   "metadata": {},
   "source": [
    "First Row: 1, \"Raj\",23,\"Male\",\"Python\",85\n",
    "    \n",
    "Second Row: 2, \"Priya\",22,\"Female\",\"Python\",86"
   ]
  },
  {
   "cell_type": "code",
   "execution_count": 17,
   "id": "9acb21f0",
   "metadata": {},
   "outputs": [],
   "source": [
    "try: \n",
    "    cur.execute(\"INSERT INTO students (student_id, name, age, gender, subject,marks) \\\n",
    "                 VALUES (%s,%s,%s,%s,%s,%s)\",\\\n",
    "                (1, \"Raj\", 23, \"Male\", \"Python\", 85))\n",
    "except psycopg2.Error as e:\n",
    "    print(\"Error: Inserting\")\n",
    "    print (e)\n",
    "    \n",
    "try: \n",
    "    cur.execute(\"INSERT INTO students (student_id, name, age, gender, subject, marks)\\\n",
    "                 VALUES (%s,%s,%s,%s,%s,%s)\",\n",
    "               (2,\"Priya\", 22, \"Female\", \"Python\", 86))\n",
    "except psycopg2.Error as e: \n",
    "    print(\"Error: Inserting Rows\")\n",
    "    print (e)\n",
    "    \n",
    "    "
   ]
  },
  {
   "cell_type": "markdown",
   "id": "859c5491",
   "metadata": {},
   "source": [
    "# 10. Validate your data was inserted into the table"
   ]
  },
  {
   "cell_type": "code",
   "execution_count": 18,
   "id": "22f349bb",
   "metadata": {},
   "outputs": [
    {
     "name": "stdout",
     "output_type": "stream",
     "text": [
      "(1, 'Raj', 23, 'Male', 'Python', 85)\n",
      "(2, 'Priya', 22, 'Female', 'Python', 86)\n"
     ]
    }
   ],
   "source": [
    "try: \n",
    "    cur.execute(\"SELECT * FROM students;\")\n",
    "except psycopg2.Error as e:\n",
    "    print(\"Error: select *\")\n",
    "    print (e)\n",
    "    \n",
    "row = cur.fetchone()\n",
    "while row:\n",
    "    print(row)\n",
    "    row = cur.fetchone()"
   ]
  },
  {
   "cell_type": "markdown",
   "id": "4b318702",
   "metadata": {},
   "source": [
    "# 11. Finally, close your cursor and connection"
   ]
  },
  {
   "cell_type": "code",
   "execution_count": 19,
   "id": "41e3524a",
   "metadata": {},
   "outputs": [],
   "source": [
    "cur.close()\n",
    "conn.close()"
   ]
  },
  {
   "cell_type": "code",
   "execution_count": null,
   "id": "0a9587b3",
   "metadata": {},
   "outputs": [],
   "source": []
  }
 ],
 "metadata": {
  "kernelspec": {
   "display_name": "Python 3 (ipykernel)",
   "language": "python",
   "name": "python3"
  },
  "language_info": {
   "codemirror_mode": {
    "name": "ipython",
    "version": 3
   },
   "file_extension": ".py",
   "mimetype": "text/x-python",
   "name": "python",
   "nbconvert_exporter": "python",
   "pygments_lexer": "ipython3",
   "version": "3.11.5"
  }
 },
 "nbformat": 4,
 "nbformat_minor": 5
}
